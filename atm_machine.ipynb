{
 "cells": [
  {
   "cell_type": "code",
   "execution_count": 42,
   "metadata": {},
   "outputs": [],
   "source": [
    "'''\n",
    "    Self in Python : \n",
    "        > self is current object  of  that  object init\n",
    "        >while we call a function from inside  the class ( ex sbi.method()) by default the method  got a  object that is sbi  itself  . and it can be received  on method as self \n",
    "        ex : def method(self)// here is self  coming from the  object created  .\n",
    "        >> why  this requried  (pass self  as args of the method):\n",
    "        =>bcos of class have  multiple method ,  there is one method  cant  directly call another  method  , however both method exist on similar  class , they only can call function by the self ( passed object ) . \n",
    "'''\n",
    "'''\n",
    "Planning\n",
    "    we will have 2 data (Pin, Balance)\n",
    "    Function/ Behavior\n",
    "        =>Deposit\n",
    "        =>Withdraw\n",
    "        =>CheckBalance\n",
    "'''\n",
    "class ATM:\n",
    "    # Functions VS Methods\n",
    "    '''\n",
    "        Methods: Methods is  defined on the class , this  only can be use  the object of the class . \n",
    "        Function : Function is out of all class   and  it can be use by anyone  . \n",
    "        Note :Function inside the class is called  is called  Methods\n",
    "    '''\n",
    "    \n",
    "    \n",
    "    def __init__(self):\n",
    "        print(id(self))\n",
    "        '''\n",
    "            this is magic  method in python \n",
    "            Note : Magic method  is a special predefined  function   and magic methods have  __method_name__  ( have 2 underscore  on starting of name and end of name )\n",
    "            What is this init : __init__ is a constructor function , its a special methods  that automaticall execute while the  object  initialized \n",
    "        '''\n",
    "        self.pin=\"\"\n",
    "        self.balance=0\n",
    "        self.menu()    \n",
    "    def menu(self):\n",
    "        user_input= input('''\n",
    "        Hellow , How would you like to proceed?\n",
    "            1.Enter 1 to create PIN\n",
    "            2.Enter 2 to Deposit \n",
    "            3.Enter 3 to Withdraw\n",
    "            4.Enter 4 to check Balance\n",
    "            5.Enter 5 to exit () \n",
    "                          ''')\n",
    "        if user_input== \"1\":\n",
    "            self.create_pin()\n",
    "        elif user_input ==\"2\":\n",
    "            self.deposit()\n",
    "        elif user_input == \"3\":\n",
    "            self.withdraw()\n",
    "        elif user_input== \"4\":\n",
    "            self.check_balance()\n",
    "        elif user_input=='5':\n",
    "            print(\"Bye\")\n",
    "\n",
    "    def create_pin(self):\n",
    "        self.pin=input(\"Enter your PIN\")\n",
    "        print(\"PIN created successfully!\")\n",
    "    \n",
    "    def deposit(self):\n",
    "        temp= input(\"Enter your PIN\")\n",
    "        if temp==self.pin:\n",
    "            amount= int(input(\"Enter the amount\"))\n",
    "            self.balance+=amount\n",
    "            print(\"Deposit successfull!\")\n",
    "        else:\n",
    "            print(\"Invalid PIN\")\n",
    "          \n",
    "    def withdraw(self):\n",
    "        temp= input(\"Enter your PIN\")\n",
    "        if temp==self.pin:\n",
    "            amount= int(input(\"Enter your Amount\"))\n",
    "            if amount < self.balance:\n",
    "                self.balance-=amount\n",
    "                print(\"Operation success\")\n",
    "            else:\n",
    "                print(\"Insufficient fund\")\n",
    "        else:\n",
    "            print(\"Invalid PIN\")  \n",
    "            \n",
    "            \n",
    "    def check_balance(self):\n",
    "        temp= input(\"Enter your PIN\")\n",
    "        if temp==self.pin:\n",
    "                print(f\"Your Balance is {self.balance}\")\n",
    "        else:\n",
    "            print(\"Invalid PIN\")  \n",
    "\n",
    "            \n",
    "            "
   ]
  },
  {
   "cell_type": "code",
   "execution_count": 43,
   "metadata": {},
   "outputs": [
    {
     "name": "stdout",
     "output_type": "stream",
     "text": [
      "2557464458832\n",
      "PIN created successfully!\n"
     ]
    }
   ],
   "source": [
    "sbi= ATM()"
   ]
  },
  {
   "cell_type": "code",
   "execution_count": 45,
   "metadata": {},
   "outputs": [
    {
     "data": {
      "text/plain": [
       "2557464458832"
      ]
     },
     "execution_count": 45,
     "metadata": {},
     "output_type": "execute_result"
    }
   ],
   "source": [
    "# checking Self\n",
    "id(sbi)"
   ]
  },
  {
   "cell_type": "code",
   "execution_count": null,
   "metadata": {},
   "outputs": [],
   "source": [
    "sbi.check_balance()"
   ]
  },
  {
   "cell_type": "code",
   "execution_count": null,
   "metadata": {},
   "outputs": [],
   "source": [
    "sbi.deposit()"
   ]
  },
  {
   "cell_type": "code",
   "execution_count": null,
   "metadata": {},
   "outputs": [],
   "source": [
    "sbi.check_balance()"
   ]
  },
  {
   "cell_type": "code",
   "execution_count": null,
   "metadata": {},
   "outputs": [],
   "source": [
    "sbi.withdraw()"
   ]
  },
  {
   "cell_type": "code",
   "execution_count": null,
   "metadata": {},
   "outputs": [],
   "source": [
    "sbi.check_balance()"
   ]
  },
  {
   "cell_type": "code",
   "execution_count": 46,
   "metadata": {},
   "outputs": [
    {
     "name": "stdout",
     "output_type": "stream",
     "text": [
      "2557461614672\n",
      "PIN created successfully!\n"
     ]
    }
   ],
   "source": [
    "user2= ATM()"
   ]
  },
  {
   "cell_type": "code",
   "execution_count": 47,
   "metadata": {},
   "outputs": [
    {
     "data": {
      "text/plain": [
       "2557461614672"
      ]
     },
     "execution_count": 47,
     "metadata": {},
     "output_type": "execute_result"
    }
   ],
   "source": [
    "id(user2)"
   ]
  },
  {
   "cell_type": "code",
   "execution_count": null,
   "metadata": {},
   "outputs": [],
   "source": []
  }
 ],
 "metadata": {
  "kernelspec": {
   "display_name": "Python 3",
   "language": "python",
   "name": "python3"
  },
  "language_info": {
   "codemirror_mode": {
    "name": "ipython",
    "version": 3
   },
   "file_extension": ".py",
   "mimetype": "text/x-python",
   "name": "python",
   "nbconvert_exporter": "python",
   "pygments_lexer": "ipython3",
   "version": "3.11.4"
  }
 },
 "nbformat": 4,
 "nbformat_minor": 2
}
